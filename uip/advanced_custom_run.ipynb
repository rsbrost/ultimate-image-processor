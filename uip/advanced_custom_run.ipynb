{
 "cells": [
  {
   "cell_type": "code",
   "execution_count": 40,
   "metadata": {},
   "outputs": [
    {
     "name": "stdout",
     "output_type": "stream",
     "text": [
      "The autoreload extension is already loaded. To reload it, use:\n",
      "  %reload_ext autoreload\n"
     ]
    }
   ],
   "source": [
    "%load_ext autoreload\n",
    "%autoreload 2\n",
    "import uip"
   ]
  },
  {
   "cell_type": "code",
   "execution_count": 41,
   "metadata": {},
   "outputs": [
    {
     "data": {
      "text/plain": [
       "dict_keys(['_base_input_dir', '_base_output_dir', '_flatfield_dir', 'current_input_dirs', 'current_output_dir', 'input_dir_history', 'output_dir_history'])"
      ]
     },
     "execution_count": 41,
     "metadata": {},
     "output_type": "execute_result"
    }
   ],
   "source": [
    "# set up the directory manager\n",
    "dm = uip.DirectoryManager()\n",
    "dm.__dict__.keys()"
   ]
  },
  {
   "cell_type": "code",
   "execution_count": 42,
   "metadata": {},
   "outputs": [
    {
     "name": "stdout",
     "output_type": "stream",
     "text": [
      "Optimal progress: 3/3\n",
      "3 images optimal denoised in 8.890021403630575spi \n",
      "\n"
     ]
    }
   ],
   "source": [
    "uip.run_denoise(dm, optimal=True, overwrite=True)"
   ]
  },
  {
   "cell_type": "code",
   "execution_count": 43,
   "metadata": {},
   "outputs": [],
   "source": [
    "# uip.run_flatten(dm, overwrite=True)"
   ]
  },
  {
   "cell_type": "code",
   "execution_count": 44,
   "metadata": {},
   "outputs": [
    {
     "name": "stdout",
     "output_type": "stream",
     "text": [
      "input dir is: .\\ouput\\denoise\\optimal and output dir is: .\\ouput\\gray\n",
      "\n",
      "0 images grayified out of 3 total images.\n",
      "3 images were filtered out.\n"
     ]
    }
   ],
   "source": [
    "uip.run_get_gray(dm, overwrite=True)"
   ]
  },
  {
   "cell_type": "code",
   "execution_count": 45,
   "metadata": {},
   "outputs": [
    {
     "name": "stdout",
     "output_type": "stream",
     "text": [
      "Normalize gray progress: 3/3\n",
      "3 gray input images normalized and saved out of 3 total images. 0 images were filtered out.\n",
      "3 gray images normalized in 0.17854809761047363spi\n",
      "3 images normalized and saved out of 3 total images with optimal version. 0 images were filtered out.\n",
      "3 color images normalized in 1.6514084339141846spi\n"
     ]
    }
   ],
   "source": [
    "uip.run_normalize_color(dm, overwrite=True)"
   ]
  },
  {
   "cell_type": "code",
   "execution_count": 46,
   "metadata": {},
   "outputs": [
    {
     "name": "stdout",
     "output_type": "stream",
     "text": [
      "input dir is: .\\ouput\\normalized\\color and output dir is: .\\ouput\\semantic_masks\n",
      "3 masks produced from 3 input images while 0 skipped for lacking mode of 0.\n"
     ]
    }
   ],
   "source": [
    "uip.make_masks(dm)"
   ]
  }
 ],
 "metadata": {
  "kernelspec": {
   "display_name": "Python 3",
   "language": "python",
   "name": "python3"
  },
  "language_info": {
   "codemirror_mode": {
    "name": "ipython",
    "version": 3
   },
   "file_extension": ".py",
   "mimetype": "text/x-python",
   "name": "python",
   "nbconvert_exporter": "python",
   "pygments_lexer": "ipython3",
   "version": "3.11.9"
  }
 },
 "nbformat": 4,
 "nbformat_minor": 2
}

{
 "cells": [
  {
   "cell_type": "code",
   "execution_count": 1,
   "metadata": {},
   "outputs": [],
   "source": [
    "%load_ext autoreload\n",
    "%autoreload 2\n",
    "import uip"
   ]
  },
  {
   "cell_type": "code",
   "execution_count": 2,
   "metadata": {},
   "outputs": [
    {
     "name": "stdout",
     "output_type": "stream",
     "text": [
      "Initializing input, output, and flatfield directories.\n",
      "\n",
      "Denoising optimal: 7/7\n",
      "7 images optimal denoised in 5.211spi \n",
      "\n",
      "Flattening images: 7/7\n",
      "7 images flattened in 0.203spi\n",
      "Getting gray images: 7/7\n",
      "7 images grayified in 0.051spi\n",
      "\n",
      "Normalizing gray images: 7/7\n",
      "7 gray input images normalized and saved out of 7 total images. 0 images were filtered out.\n",
      "7 gray images normalized in 0.126spi\n",
      "\n",
      "Normalizing color images: 7/7\n",
      "7 images normalized and saved out of 7 total images with optimal version. 0 images were filtered out.\n",
      "7 color images normalized in 1.13spi\n",
      "\n",
      "Generating semantic masks: 7/7\n",
      "7 masks produced from 7 input images while 0 skipped for lacking mode of 0.\n",
      "\n",
      "7/7 images fully processed and masks generated in 48.579 at a rate of 6.94 seconds per image.\n"
     ]
    }
   ],
   "source": [
    "uip.run_pipeline()"
   ]
  }
 ],
 "metadata": {
  "kernelspec": {
   "display_name": "base",
   "language": "python",
   "name": "python3"
  },
  "language_info": {
   "codemirror_mode": {
    "name": "ipython",
    "version": 3
   },
   "file_extension": ".py",
   "mimetype": "text/x-python",
   "name": "python",
   "nbconvert_exporter": "python",
   "pygments_lexer": "ipython3",
   "version": "3.11.9"
  }
 },
 "nbformat": 4,
 "nbformat_minor": 2
}

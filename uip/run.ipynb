{
 "cells": [
  {
   "cell_type": "code",
   "execution_count": 18,
   "metadata": {},
   "outputs": [
    {
     "name": "stdout",
     "output_type": "stream",
     "text": [
      "The autoreload extension is already loaded. To reload it, use:\n",
      "  %reload_ext autoreload\n"
     ]
    }
   ],
   "source": [
    "%load_ext autoreload\n",
    "%autoreload 2\n",
    "import uip"
   ]
  },
  {
   "cell_type": "code",
   "execution_count": 19,
   "metadata": {},
   "outputs": [
    {
     "data": {
      "text/plain": [
       "dict_keys(['_base_input_dir', '_base_output_dir', '_flatfield_dir', 'current_input_dirs', 'current_output_dir', 'input_dir_history', 'output_dir_history'])"
      ]
     },
     "execution_count": 19,
     "metadata": {},
     "output_type": "execute_result"
    }
   ],
   "source": [
    "# set up the directory manager\n",
    "dm = uip.DirectoryManager()\n",
    "dm.__dict__.keys()"
   ]
  },
  {
   "cell_type": "code",
   "execution_count": 20,
   "metadata": {},
   "outputs": [
    {
     "name": "stdout",
     "output_type": "stream",
     "text": [
      "Optimal progress: 39/39\n",
      "39 images optimal denoised in 7.965318832641993spi \n",
      "\n"
     ]
    }
   ],
   "source": [
    "uip.run_denoise(dm, optimal=True, overwrite=True)"
   ]
  },
  {
   "cell_type": "code",
   "execution_count": 21,
   "metadata": {},
   "outputs": [],
   "source": [
    "# uip.run_flatten(dm, overwrite=True)"
   ]
  },
  {
   "cell_type": "code",
   "execution_count": 22,
   "metadata": {},
   "outputs": [
    {
     "name": "stdout",
     "output_type": "stream",
     "text": [
      "Grayifying progress: 34/39\n",
      "34 images flattened in 0.1274888655718635spi\n"
     ]
    }
   ],
   "source": [
    "uip.run_get_gray(dm)"
   ]
  },
  {
   "cell_type": "code",
   "execution_count": 23,
   "metadata": {},
   "outputs": [
    {
     "name": "stdout",
     "output_type": "stream",
     "text": [
      "input dir in run normalize gray is: .\\ouput\\gray\n",
      "output dir in run normalize gray is: .\\ouput\\normalized\\gray\n",
      "Normalize gray progress: 39/39\n",
      "39 gray input images normalized and saved out of 39 total images. 0 images were filtered out.\n",
      "39 debug gray images normalized in 0.2897666723300249spi\n",
      "Normalize gray progress: 34/39\n",
      "34 gray input images normalized and saved out of 39 total images. 5 images were filtered out.\n",
      "34 gray images normalized in 0.3047865488949944spi\n",
      "color input dir in run normalize color is: .\\ouput\\denoise\\optimal\n",
      "base output dir in run normalize color is: .\\ouput\\normalized\n",
      "gray input dir in run normalize color is: .\\ouput\\normalized\n",
      "output dir in run normalize color is: .\\ouput\\normalized\\color\n",
      "0 images normalized and saved out of 39 total images with optimal version. 39 images were filtered out.\n",
      "0 images normalized and saved out of 39 total images with optimal version. 39 images were filtered out.\n"
     ]
    }
   ],
   "source": [
    "uip.run_normalize_color(dm, overwrite=True, debug=True)"
   ]
  }
 ],
 "metadata": {
  "kernelspec": {
   "display_name": "Python 3",
   "language": "python",
   "name": "python3"
  },
  "language_info": {
   "codemirror_mode": {
    "name": "ipython",
    "version": 3
   },
   "file_extension": ".py",
   "mimetype": "text/x-python",
   "name": "python",
   "nbconvert_exporter": "python",
   "pygments_lexer": "ipython3",
   "version": "3.11.9"
  }
 },
 "nbformat": 4,
 "nbformat_minor": 2
}

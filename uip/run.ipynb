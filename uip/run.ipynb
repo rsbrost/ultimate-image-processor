{
 "cells": [
  {
   "cell_type": "code",
   "execution_count": 10,
   "metadata": {},
   "outputs": [
    {
     "name": "stdout",
     "output_type": "stream",
     "text": [
      "The autoreload extension is already loaded. To reload it, use:\n",
      "  %reload_ext autoreload\n"
     ]
    }
   ],
   "source": [
    "%load_ext autoreload\n",
    "%autoreload 2\n",
    "import uip"
   ]
  },
  {
   "cell_type": "code",
   "execution_count": 11,
   "metadata": {},
   "outputs": [
    {
     "name": "stdout",
     "output_type": "stream",
     "text": [
      "Initializing input, output, and flatfield directories.\n",
      "\n",
      "Denoising optimal: 3/3\n",
      "3 images optimal denoised in 8.166spi \n",
      "\n",
      "Flattening/removing vignette: skipped since not 1 but 2 flatfield inputs found.\n",
      "\n",
      "Getting gray images: 3/3\n",
      "3 images grayified in 0.082spi\n",
      "\n",
      "Normalizing gray images: 3/3\n",
      "3 gray input images normalized and saved out of 3 total images. 0 images were filtered out.\n",
      "3 gray images normalized in 0.199spi\n",
      "\n",
      "Normalizing color images: 3/3\n",
      "3 images normalized and saved out of 3 total images with optimal version. 0 images were filtered out.\n",
      "3 color images normalized in 1.647spi\n",
      "\n",
      "Generating semantic masks: 3/3\n",
      "3 masks produced from 3 input images while 0 skipped for lacking mode of 0.\n",
      "\n",
      "3/3 images fully processed and masks generated in 31.424 at a rate of 10.475 seconds per image.\n"
     ]
    }
   ],
   "source": [
    "uip.run_pipeline()"
   ]
  }
 ],
 "metadata": {
  "kernelspec": {
   "display_name": "base",
   "language": "python",
   "name": "python3"
  },
  "language_info": {
   "codemirror_mode": {
    "name": "ipython",
    "version": 3
   },
   "file_extension": ".py",
   "mimetype": "text/x-python",
   "name": "python",
   "nbconvert_exporter": "python",
   "pygments_lexer": "ipython3",
   "version": "3.11.9"
  }
 },
 "nbformat": 4,
 "nbformat_minor": 2
}
